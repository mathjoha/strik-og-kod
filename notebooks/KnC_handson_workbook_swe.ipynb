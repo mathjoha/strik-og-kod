{
    "cells": [
        {
            "cell_type": "markdown",
            "metadata": {
                "colab_type": "text",
                "id": "view-in-github"
            },
            "source": [
                "<a href=\"https://colab.research.google.com/github/mathjoha/strik-og-kod/blob/main/notebooks/KnC_handson_workbook_swe.ipynb\" target=\"_parent\"><img src=\"https://colab.research.google.com/assets/colab-badge.svg\" alt=\"Open In Colab\"/></a>\n",
                "[![Open In Binder](https://mybinder.org/badge_logo.svg)](https://mybinder.org/v2/gh/mathjoha/strik-og-kod.git/main?labpath=notebooks%2KnC_handson_workbook_swe.ipynb) "
            ]
        },
        {
            "cell_type": "markdown",
            "metadata": {
                "id": "ByJpAFyOvr70"
            },
            "source": [
                "# Knit & Code\n",
                "author: \"Mathias Johansson, Joakim Axelsson & Max Odsbjerg Pedersen\"\n",
                "\n",
                "date: \"2025-04-08\"\n",
                "\n",
                "Detta dokument består av den kod-delen av workshoppen \"Knit and Code\" vid\n",
                "Humanistiska och Teologiska Fakulteterna vid Lunds universitet utvecklad I\n",
                "samarbete med _AU Bibliotek vid Det Kongelige Bibliotek_. Workshopen handlar om\n",
                "att dra paralleller mellan stickning och kodning. \"Kodning\" förstås här som\n",
                "kopplingen mellan kodningsbaserad datahantering och ligger därför inom området\n",
                "datorvetenskap. Eftersom workshopen är gjord i sammanhang av humaniora avser\n",
                "exemplet _textmining_. När man använder _textmining_ är det primära intresset\n",
                "att extrahera information ur stora korpus - vilket är exakt det intresse som\n",
                "många humanister har.\n",
                "\n",
                "Inget recept är komplett utan en bild av den färdiga produkten som en av de\n",
                "första punkterna. Och detta är inget undantag. Slutresultatet i slutet av detta\n",
                "dokument är visualiseringen som visas precis under denna paragraf. Den visar de\n",
                "vanligast förekommande orden i gamla tidningsartiklar om stickning efter att\n",
                "alla stoppord har tagits bort (det, att, till, och, i - ord som inte bär någon\n",
                "större betydelse).\n",
                "\n",
                "![](https://github.com/mathjoha/strik-og-kod/blob/53a64caa55cebfea9e3d9e2db1f7305d1043d129/notebooks/swe_wc.png?raw=true)\n",
                "\n",
                "Yttrade ABM-ord och deras sällskap.\n",
                "\n",
                "<br>\n",
                "\n",
                "\n",
                "\n",
                "## Ladda ner och installera Python paket\n",
                "Vi arbetar i programmeringsspråket [Python ](https://www.python.org/), ett\n",
                "gratis och _open-source_ programmeringsspråk. Python får mest av sin\n",
                "funktionalitet genom att importera 'bibliotek', och python har ett mycket brett\n",
                "ekosystem med bibliotek som erbjuder nästan all funktionalitet du kan tänka\n",
                "dig. Bland annat många möjligheter för att bearbeta text, statistik och grafisk\n",
                "presentation av resultaten. Python får mest av sin funktionalitet genom att\n",
                "importera 'bibliotek', och python har ett mycket starkt ekosystem med bibliotek\n",
                "som erbjuder nästan alla funktioner du kan tänka dig. Bland annat många\n",
                "möjligheter för att bearbeta text, statistik och grafisk presentation av\n",
                "resultaten.\n",
                "\n",
                "I denna workshop är de relevanta paketen:\n",
                "- Pandas: Ett kraftfullt bibliotek för datahantering.\n",
                "- Wordcloud: Ett Python-bibliotek för att generera ordmoln från text.\n",
                "- Matplotlib: Ett bibliotek för att skapa statiska, animerade och interaktiva\n",
                "  visualiseringar i Python.\n",
                "\n",
                "Vi kommer att installera dessa paket med hjälp av pip, Pythons pakethanterare.\n",
                "Pip är ett kommandoradsverktyg som gör det lätt att installera och hantera\n",
                "Python-paket.\n",
                "\n",
                "Vi använder också två bibliotek från _standardbiblioteket_:\n",
                "- re: Ett reguljärt uttrycksmodul -- för textmönstermatchning.\n",
                "- Counter: Ett objekt för att räkna förekomster av objekt.\n"
            ]
        },
        {
            "cell_type": "code",
            "execution_count": null,
            "metadata": {
                "id": "3vBjTYxQvr75",
                "outputId": "4fa23bab-5852-4908-d17e-3c7d7d17bc4f"
            },
            "outputs": [],
            "source": []
        },
        {
            "cell_type": "code",
            "execution_count": null,
            "metadata": {},
            "outputs": [],
            "source": []
        },
        {
            "cell_type": "markdown",
            "metadata": {
                "id": "2BGwm7VGvr77"
            },
            "source": [
                "## Data – uttalanden about ABM\n",
                "\n",
                "The första vi behöver är någon text att behandla. Vi kommer här att använda\n",
                "_uttalanden_ från Svenska riksdagsdebatter från 1867-2022. För att hitta och\n",
                "komma åt dessa _uttalanden_ kommer vi först använda\n",
                "[Riksdagsdebatter.se](https://riksdagsdebatter.se/public/index.html#/about) som\n",
                "erbjuder ett grafiskt gränssnitt för sökning och åtkomst till debatterna. För\n",
                "att hitta alla uttalanden som nämner ABM söker vi efter följande tre nyckelord:\n",
                "\n",
                "\n",
                "- `arkiv*`\n",
                "- `bibliotek*`\n",
                "- `muse*`\n",
                "\n",
                "Asterisk `*` markerar trunkering -- expanderar för att hitta *alla ord* som\n",
                "börjar med `arkiv`, `bibliotek` eller `muse` (1477 ord enligt GUI).\n",
                "\n",
                "`Riksdagsdebatter.se` erbjuder inte något API och de ~9k resultaten är\n",
                "paginerade vid 50 resultat per sida. Men källmaterialet finns tillgängligt på:\n",
                "[the-swedish-parliament-corpus](https://github.com/swerik-project/the-swedish-parliament-corpus)\n",
                "where one can download the entire corpus and all speaker-metadata. In där man\n",
                "kan ladda ner hela korpusen och all talarmetadata. I förberedelse för denna\n",
                "workshop har jag laddat ner posterna, filterat bort alla uttalanden som INTE\n",
                "nämner minst ett av våra nyckelord och omstrukturerat resultatet till en\n",
                "CSV-fil.\n",
                "[skript](https://gist.github.com/mathjoha/edcdaf57c5c2d58d9f6b58a6350b811d)\n",
                "[korpus](https://raw.githubusercontent.com/mathjoha/strik-og-kod/refs/heads/main/the-swedish-parliament-corpus_ABM_.csv)\n",
                "\n",
                "\n",
                "\n",
                "### Hämta data\n",
                "\n",
                "För att komma åt datat för workshoppen behöver det laddas ner, vilket \n",
                "lätt kan göras med `wget`-programmet så här:"
            ]
        },
        {
            "cell_type": "code",
            "execution_count": null,
            "metadata": {
                "id": "J1HWgvDCvr79",
                "outputId": "8788e654-59ed-4e2d-e6ad-cc388cad4121"
            },
            "outputs": [],
            "source": [
                "!wget -c -nc \"https://raw.githubusercontent.com/mathjoha/strik-og-kod/08f31ff60c9460efb232fecc1fbd07aace62dab4/data/the-swedish-parliament/the-swedish-parliament-corpus_ABM_.csv\" -O corpus.csv"
            ]
        },
        {
            "cell_type": "markdown",
            "metadata": {
                "id": "yPpYXyFMvr8A"
            },
            "source": [
                "Sedan använder vi funktionen `read_csv` från pandas-biblioteket för att ladda\n",
                "innehållet i filen till en DataFrame och behålla det i minnet under\n",
                "variabelnamnet \"strik\". En DataFrame är jämförbar med ett kalkylblad eftersom\n",
                "det är en stor matris som lagrar data vi arbetar med.\n"
            ]
        },
        {
            "cell_type": "code",
            "execution_count": null,
            "metadata": {
                "id": "MYSueAQ2vr8B"
            },
            "outputs": [],
            "source": []
        },
        {
            "cell_type": "markdown",
            "metadata": {
                "id": "jMZ2G_Esvr8D"
            },
            "source": [
                "\n",
                "Detta ger oss en ny Pandas DataFrame som heter \"riksdag\" och innehåller 13755\n",
                "rader och 5 kolumner.\n",
                "\n",
                "Vad som är särskilt intressant för oss är kolumnen \"content\" – det är här de\n",
                "transkriberade yttrandena lagras. En del av denna text kommer inte att vara\n",
                "lätt att läsa eftersom den innehåller fel, och det är här du möter den första\n",
                "nackdelen med att arbeta med digitaliserad text: OCR-fel.\n"
            ]
        },
        {
            "cell_type": "code",
            "execution_count": null,
            "metadata": {},
            "outputs": [],
            "source": []
        },
        {
            "cell_type": "markdown",
            "metadata": {},
            "source": [
                "\n",
                "För att förstå varför dessa fel uppstår är det nödvändigt att vända sig till\n",
                "digitaliseringen. I denna process skannas protokollen och bearbetas med en\n",
                "OCR-motor. Dessa motorer tenderar att fungera i två huvudsakliga steg:\n",
                "\n",
                "  1. Segmentering av bilden i olika textblock.\n",
                "  2. Transkribering av textblocken till.\n",
                "\n",
                "Dessa motorer är vanligtvis utvecklade och testade på nyare material - delvis\n",
                "för att det äldre materialet är mer komplext, och det finns mindre av det\n",
                "tillgängligt.\n",
                "\n",
                "Teamet bakom `The Swedish Parliament Corpus` har lagt ned mycket arbete på att\n",
                "utveckla system för att transkribera de äldre debatterna, identifiera talare\n",
                "och mappa dem till metadata. Ändå finns många\n",
                "[OCR-fel kvar](https://github.com/swerik-project/pyriksdagen/blob/5cdc0875b7ed9a46f6ec7039d439d6e22e6acf54/examples/corpus-walkthrough.ipynb)\n",
                "i materialet."
            ]
        },
        {
            "cell_type": "markdown",
            "metadata": {},
            "source": [
                "## Text mining-uppgiften\n",
                "\n",
                "Först kommer vi att konvertera textenrna till gemener och dela upp dem i ord\n",
                "med hjälp av\n",
                "[Regular expression](https://sv.wikipedia.org/wiki/Reguljärt_uttryck). Vi\n",
                "lagrar sedan dessa `listor` av gemena ord i DataFrame i kolumnen `ord` och vi\n",
                "expanderar denna kolumn till en ny dataframe där varje ord har sin egen rad.\n"
            ]
        },
        {
            "cell_type": "code",
            "execution_count": null,
            "metadata": {
                "id": "ofFT3Lzovr8F"
            },
            "outputs": [],
            "source": []
        },
        {
            "cell_type": "markdown",
            "metadata": {
                "id": "P1_QcrU1vr8G"
            },
            "source": [
                "Låt oss skriva ut den nya dataframen för att se hur tidytext-formatet ser ut i\n",
                "praktiken. Detta uppnås genom att skriva namnet på datafamen:"
            ]
        },
        {
            "cell_type": "code",
            "execution_count": null,
            "metadata": {
                "id": "iORiX19zvr8I",
                "outputId": "fb300f1b-83c3-4482-dd9f-50db5c3b3b79"
            },
            "outputs": [],
            "source": []
        },
        {
            "cell_type": "markdown",
            "metadata": {
                "id": "ZbMvJlVPvr8J"
            },
            "source": [
                "Om vi bläddrar igenom kolumnerna (med den lilla svarta pilen i högra hörnet)\n",
                "kommer den sista kolumnen nu att vara \"ord\" som endast innehåller enskilda ord.\n",
                "## Analys\n",
                "\n",
                "### Molntext\n",
                "\n",
                "För att få en överblick av vår datamängd börjar vi med att räkna de vanligaste\n",
                "orden i protokollen som nämner ABM under perioden 1867 till 2022:\n"
            ]
        },
        {
            "cell_type": "code",
            "execution_count": null,
            "metadata": {
                "id": "qy62aN8avr8K",
                "outputId": "02ae2e3c-c1ef-46a1-9f52-356d1cd1c0ef",
                "scrolled": true
            },
            "outputs": [],
            "source": []
        },
        {
            "cell_type": "markdown",
            "metadata": {
                "id": "hIASMASdvr8L"
            },
            "source": [
                "Till ingen överraskning är de vanligaste orden i datamängden grammatiska\n",
                "partiklar. Ett sätt att negera dessa ord är genom att använda en stopwordlista\n",
                "som kan användas för att ta bort oönskade ord. För detta kommer vi att använda\n",
                "en stopwords-lista som publicerats offentligt av\n",
                "[@peterdalle](https://gist.github.com/peterdalle):"
            ]
        },
        {
            "cell_type": "code",
            "execution_count": null,
            "metadata": {
                "id": "XxQgt-lTvr8M",
                "outputId": "1a795c39-cbda-494f-e5c6-5ea7b61bf980"
            },
            "outputs": [],
            "source": [
                "!wget \"https://gist.githubusercontent.com/peterdalle/8865eb918a824a475b7ac5561f2f88e9/raw/cc1d05616e489576c1b934289711f041ff9b2281/swedish-stopwords.txt\" -O stopord.txt"
            ]
        },
        {
            "cell_type": "code",
            "execution_count": null,
            "metadata": {
                "id": "KSiSK5ePvr8N"
            },
            "outputs": [],
            "source": []
        },
        {
            "cell_type": "markdown",
            "metadata": {
                "id": "0aGkWL8mvr8N"
            },
            "source": [
                "Vi filtrerar bort alla stoppord och tittar igen."
            ]
        },
        {
            "cell_type": "code",
            "execution_count": null,
            "metadata": {
                "id": "i00WiV0Rvr8O",
                "outputId": "25cb0732-3149-4bab-e590-587b211b8f35",
                "scrolled": true
            },
            "outputs": [],
            "source": []
        },
        {
            "cell_type": "markdown",
            "metadata": {
                "id": "CpmR4_6avr8P"
            },
            "source": [
                "Vi kan redan se ganska många intressanta ord. Det är många fler yttranden om\n",
                "museer än om arkiv, och vi kan inte ens se arkiv i 1000 antal. Det finns också\n",
                "ett flertal ord som inte är vardagliga ord men är väldigt vanlika i samanhanget\n",
                "av riksdagsrdebatter och ett fåtal OCR-fel.\n",
                "\n",
                "Men en lista är lite tråkig att titta på. Kunde vi kanske skapa ett\n",
                "vackert ordmoln? Naturligtvis kan vi det!"
            ]
        },
        {
            "cell_type": "code",
            "execution_count": null,
            "metadata": {
                "id": "-n-LEhX9vr8P",
                "outputId": "57348a28-66b6-4de2-fd59-f97cc052d74b",
                "scrolled": true
            },
            "outputs": [],
            "source": []
        }
    ],
    "metadata": {
        "colab": {
            "include_colab_link": true,
            "provenance": []
        },
        "kernelspec": {
            "display_name": ".venv",
            "language": "python",
            "name": "python3"
        },
        "language_info": {
            "codemirror_mode": {
                "name": "ipython",
                "version": 3
            },
            "file_extension": ".py",
            "mimetype": "text/x-python",
            "name": "python",
            "nbconvert_exporter": "python",
            "pygments_lexer": "ipython3",
            "version": "3.13.2"
        }
    },
    "nbformat": 4,
    "nbformat_minor": 4
}
